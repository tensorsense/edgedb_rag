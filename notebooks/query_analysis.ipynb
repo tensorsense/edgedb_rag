{
 "cells": [
  {
   "cell_type": "code",
   "execution_count": 1,
   "metadata": {},
   "outputs": [],
   "source": [
    "from dotenv import load_dotenv, find_dotenv\n",
    "from pathlib import Path\n",
    "from tqdm import tqdm\n",
    "import sys\n",
    "\n",
    "_ = load_dotenv(find_dotenv())  # read local .env file\n",
    "sys.path.append(Path(\"..\").resolve().as_posix())"
   ]
  },
  {
   "cell_type": "code",
   "execution_count": 2,
   "metadata": {},
   "outputs": [],
   "source": [
    "from langchain_openai import AzureChatOpenAI, AzureOpenAIEmbeddings\n",
    "\n",
    "from src.core.index import Index, ID_KEY\n",
    "from src.core.retriever import build_retriever\n",
    "from src.core.generator import build_generator"
   ]
  },
  {
   "cell_type": "code",
   "execution_count": 3,
   "metadata": {},
   "outputs": [],
   "source": [
    "# index = Index.from_metadata(\n",
    "#     metadata_path=Path(\"../resources/doc_metadata.jsonl\").resolve(),\n",
    "#     lib_path=Path(\"../../docs_md\").resolve(),\n",
    "#     persist_path=Path(\"index_storage\").resolve(),\n",
    "#     embedding_function=AzureOpenAIEmbeddings(\n",
    "#         azure_deployment=\"text-embedding-ada-002\", api_version=\"2023-07-01-preview\"\n",
    "#     ),\n",
    "# )\n",
    "\n",
    "index = Index.from_persist_path(\n",
    "    persist_path=Path(\"index_storage\").resolve(),\n",
    "    embedding_function=AzureOpenAIEmbeddings(\n",
    "        azure_deployment=\"text-embedding-ada-002\", api_version=\"2023-07-01-preview\"\n",
    "    ),\n",
    ")"
   ]
  },
  {
   "cell_type": "code",
   "execution_count": 4,
   "metadata": {},
   "outputs": [],
   "source": [
    "llm = AzureChatOpenAI(\n",
    "    temperature=0.0,\n",
    "    azure_deployment=\"gpt4o\",\n",
    "    openai_api_version=\"2023-07-01-preview\",\n",
    "    max_retries=0,\n",
    ")"
   ]
  },
  {
   "cell_type": "code",
   "execution_count": 5,
   "metadata": {},
   "outputs": [],
   "source": [
    "retriever = build_retriever(\n",
    "    llm=llm, vectorstore=index.vectorstore, docstore=index.docstore\n",
    ")"
   ]
  },
  {
   "cell_type": "code",
   "execution_count": 6,
   "metadata": {},
   "outputs": [],
   "source": [
    "generator = build_generator(llm=llm, retriever=retriever)"
   ]
  },
  {
   "cell_type": "code",
   "execution_count": 7,
   "metadata": {},
   "outputs": [
    {
     "name": "stderr",
     "output_type": "stream",
     "text": [
      "Parent run fff6383a-8229-4d95-b5a3-5b45aaa07018 not found for run e0db6a44-7044-4b10-ab87-5f12d2baed5a. Treating as a root run.\n",
      "Error in RootListenersTracer.on_chain_end callback: ValueError()\n"
     ]
    }
   ],
   "source": [
    "from langchain.globals import set_debug\n",
    "\n",
    "set_debug(False)\n",
    "\n",
    "response = generator.invoke(\n",
    "    {\"input\": \"I have a type with a .created_at and a .last_updated_at both datetime. I want to find the difference in full days between the two. What is the best way to do this in edgeql?\"},\n",
    "    config={\n",
    "        \"configurable\": {\"session_id\": \"0\"}\n",
    "    },  # constructs a key \"abc123\" in `store`.\n",
    ")"
   ]
  },
  {
   "cell_type": "code",
   "execution_count": 8,
   "metadata": {},
   "outputs": [],
   "source": [
    "def pretty_print_response(response):\n",
    "    print(f\"************PROMPT************\\n\\n{response['input']}\\n\\n\")\n",
    "    print(f\"************ANSWER************\\n\\n{response['answer'].answer}\\n\\n\")\n",
    "\n",
    "    print(f\"***********CITATIONS**********\\n\\n\")\n",
    "\n",
    "    for citation in response[\"answer\"].citations:\n",
    "        doc = response['context'][citation.source_id]\n",
    "        print(f\"Source {citation.source_id}: {doc.metadata['source']}\\n\")\n",
    "        print(f\"Category: {doc.metadata['category']}\\n\")\n",
    "        print(f\"Quote:\\n{citation.quote}\\n\\n\")\n",
    "\n",
    "    print(f\"************SOURCES***********\\n\\n\")\n",
    "\n",
    "    for i, doc in enumerate(response[\"context\"]):\n",
    "        print(f\"Source {i}: {doc.metadata['source']}\\n\")\n",
    "        print(f\"Category: {doc.metadata['category']}\\n\")\n",
    "        print(f\"Content:\\n{doc.page_content}\\n\\n\")"
   ]
  },
  {
   "cell_type": "code",
   "execution_count": 9,
   "metadata": {},
   "outputs": [
    {
     "name": "stdout",
     "output_type": "stream",
     "text": [
      "************PROMPT************\n",
      "\n",
      "I have a type with a .created_at and a .last_updated_at both datetime. I want to find the difference in full days between the two. What is the best way to do this in edgeql?\n",
      "\n",
      "\n",
      "************ANSWER************\n",
      "\n",
      "To find the difference in full days between two datetime values in EdgeQL, you can use the `cal::date_duration` type. This type allows you to represent the difference in days and months between two dates. You can then extract the `days` field from the `cal::date_duration` value to get the difference in full days.\n",
      "\n",
      "\n",
      "***********CITATIONS**********\n",
      "\n",
      "\n",
      "Source 2: /Users/andrey/local/projects/edgedb_driven_home/docs_md/reference/protocol/dataformats21.md\n",
      "\n",
      "Category: edgedb_general\n",
      "\n",
      "Quote:\n",
      "[`cal::date_duration`](https://edgedb.com/docs/stdlib/datetime#type::cal::date_duration) values are represented as the following structure:\n",
      "\n",
      "```c\n",
      "struct DateDuration {\n",
      "    int64   reserved;\n",
      "    int32   days;\n",
      "    int32   months;\n",
      "};\n",
      "```\n",
      "\n",
      "\n",
      "************SOURCES***********\n",
      "\n",
      "\n",
      "Source 0: /Users/andrey/local/projects/edgedb_driven_home/docs_md/reference/protocol/dataformats17.md\n",
      "\n",
      "Category: edgedb_general\n",
      "\n",
      "Content:\n",
      "# cal::local_date\n",
      "\n",
      "[`cal::local_date`](https://edgedb.com/docs/stdlib/datetime#type::cal::local_date) values are represented as a 32-bit integer, most sigificant byte first. The value is the number of _days_ between the encoded date and January 1st 2000.\n",
      "\n",
      "For example, the `local_date` value `'2019-05-06'` is encoded as:\n",
      "\n",
      "```c\n",
      "0x00 0x00 0x1b 0x99\n",
      "```\n",
      "\n",
      "[Learn more](https://www.edgedb.com/docs/reference/protocol/dataformats)\n",
      "\n",
      "\n",
      "Source 1: /Users/andrey/local/projects/edgedb_driven_home/docs_md/reference/protocol/dataformats16.md\n",
      "\n",
      "Category: edgedb_general\n",
      "\n",
      "Content:\n",
      "# cal::local_datetime\n",
      "\n",
      "[`cal::local_datetime`](https://edgedb.com/docs/stdlib/datetime#type::cal::local_datetime) values are represented as a 64-bit integer, most sigificant byte first. The value is the number of _microseconds_ between the encoded datetime and January 1st 2000, 00:00.\n",
      "\n",
      "For example, the `local_datetime` value `'2019-05-06T12:00'` is encoded as:\n",
      "\n",
      "```c\n",
      "0x00 0x02 0x2b 0x35 0x9b 0xc4 0x10 0x00\n",
      "```\n",
      "\n",
      "See the [client libraries](https://edgedb.com/docs/reference/bindings/datetime#ref-bindings-datetime) section for more info about how to handle different precision when encoding data.\n",
      "\n",
      "[Learn more](https://www.edgedb.com/docs/reference/protocol/dataformats)\n",
      "\n",
      "\n",
      "Source 2: /Users/andrey/local/projects/edgedb_driven_home/docs_md/reference/protocol/dataformats21.md\n",
      "\n",
      "Category: edgedb_general\n",
      "\n",
      "Content:\n",
      "# cal::date_duration\n",
      "\n",
      "[`cal::date_duration`](https://edgedb.com/docs/stdlib/datetime#type::cal::date_duration) values are represented as the following structure:\n",
      "\n",
      "```c\n",
      "struct DateDuration {\n",
      "    int64   reserved;\n",
      "    int32   days;\n",
      "    int32   months;\n",
      "};\n",
      "```\n",
      "\n",
      "For example, the `cal::date_duration` value `'1 years 2 days'` is encoded as:\n",
      "\n",
      "```c\n",
      "// reserved\n",
      "0x00 0x00 0x00 0x00 0x00 0x00 0x00 0x00\n",
      "\n",
      "// days\n",
      "0x00 0x00 0x00 0x02\n",
      "\n",
      "// months\n",
      "0x00 0x00 0x00 0x0c\n",
      "```\n",
      "\n",
      "[Learn more](https://www.edgedb.com/docs/reference/protocol/dataformats)\n",
      "\n",
      "\n",
      "Source 3: /Users/andrey/local/projects/edgedb_driven_home/docs_md/reference/protocol/dataformats18.md\n",
      "\n",
      "Category: edgedb_general\n",
      "\n",
      "Content:\n",
      "# cal::local_time\n",
      "\n",
      "[`cal::local_time`](https://edgedb.com/docs/stdlib/datetime#type::cal::local_time) values are represented as a 64-bit integer, most sigificant byte first. The value is the number of _microseconds_ since midnight.\n",
      "\n",
      "For example, the `local_time` value `'12:10'` is encoded as:\n",
      "\n",
      "```c\n",
      "0x00 0x00 0x00 0x0a 0x32 0xae 0xf6 0x00\n",
      "```\n",
      "\n",
      "See the [client libraries](https://edgedb.com/docs/reference/bindings/datetime#ref-bindings-datetime) section for more info about how to handle different precision when encoding data.\n",
      "\n",
      "[Learn more](https://www.edgedb.com/docs/reference/protocol/dataformats)\n",
      "\n",
      "\n"
     ]
    }
   ],
   "source": [
    "pretty_print_response(response)"
   ]
  },
  {
   "cell_type": "code",
   "execution_count": null,
   "metadata": {},
   "outputs": [],
   "source": []
  }
 ],
 "metadata": {
  "kernelspec": {
   "display_name": "edgedb_rag",
   "language": "python",
   "name": "python3"
  },
  "language_info": {
   "codemirror_mode": {
    "name": "ipython",
    "version": 3
   },
   "file_extension": ".py",
   "mimetype": "text/x-python",
   "name": "python",
   "nbconvert_exporter": "python",
   "pygments_lexer": "ipython3",
   "version": "3.11.0"
  }
 },
 "nbformat": 4,
 "nbformat_minor": 2
}
