{
 "cells": [
  {
   "cell_type": "code",
   "execution_count": null,
   "metadata": {},
   "outputs": [],
   "source": [
    "from dotenv import load_dotenv, find_dotenv\n",
    "from pathlib import Path\n",
    "from tqdm import tqdm\n",
    "import sys\n",
    "\n",
    "_ = load_dotenv(find_dotenv())  # read local .env file\n",
    "sys.path.append(Path(\"..\").resolve().as_posix())"
   ]
  },
  {
   "cell_type": "code",
   "execution_count": null,
   "metadata": {},
   "outputs": [],
   "source": [
    "from langchain_openai import AzureChatOpenAI, AzureOpenAIEmbeddings\n",
    "\n",
    "from src.core.index import Index, ID_KEY\n",
    "from src.core.retriever import build_retriever\n",
    "from src.core.generator import build_generator"
   ]
  },
  {
   "cell_type": "code",
   "execution_count": null,
   "metadata": {},
   "outputs": [],
   "source": [
    "persist_path = Path(\"index_storage\").resolve()\n",
    "embedding_function = AzureOpenAIEmbeddings(\n",
    "    azure_deployment=\"text-embedding-ada-002\", api_version=\"2023-07-01-preview\"\n",
    ")\n",
    "\n",
    "if persist_path.exists():\n",
    "    index = Index.from_persist_path(\n",
    "        persist_path=persist_path,\n",
    "        embedding_function=embedding_function,\n",
    "    )\n",
    "else:\n",
    "    index = Index.from_metadata(\n",
    "        metadata_path=Path(\"../resources/doc_metadata.jsonl\").resolve(),\n",
    "        lib_path=Path(\"../../docs_md\").resolve(),\n",
    "        persist_path=persist_path,\n",
    "        embedding_function=embedding_function,\n",
    "    )"
   ]
  },
  {
   "cell_type": "code",
   "execution_count": null,
   "metadata": {},
   "outputs": [],
   "source": [
    "llm = AzureChatOpenAI(\n",
    "    temperature=0.0,\n",
    "    azure_deployment=\"gpt4o\",\n",
    "    openai_api_version=\"2023-07-01-preview\",\n",
    "    max_retries=0,\n",
    ")"
   ]
  },
  {
   "cell_type": "code",
   "execution_count": null,
   "metadata": {},
   "outputs": [],
   "source": [
    "retriever = build_retriever(\n",
    "    llm=llm, vectorstore=index.vectorstore, docstore=index.docstore\n",
    ")"
   ]
  },
  {
   "cell_type": "code",
   "execution_count": null,
   "metadata": {},
   "outputs": [],
   "source": [
    "generator = build_generator(llm=llm, retriever=retriever)"
   ]
  },
  {
   "cell_type": "code",
   "execution_count": null,
   "metadata": {},
   "outputs": [],
   "source": [
    "from langchain.globals import set_debug\n",
    "\n",
    "set_debug(False)\n",
    "\n",
    "response = generator.invoke(\n",
    "    {\"input\": \"Can I use row-level security on EdgeDB?\"},\n",
    "    config={\n",
    "        \"configurable\": {\"session_id\": \"1\"}\n",
    "    },  # constructs a key \"abc123\" in `store`.\n",
    ")"
   ]
  },
  {
   "cell_type": "code",
   "execution_count": null,
   "metadata": {},
   "outputs": [],
   "source": [
    "def pretty_print_response(response):\n",
    "    print(f\"************PROMPT************\\n\\n{response['input']}\\n\\n\")\n",
    "    print(f\"************ANSWER************\\n\\n{response['answer'].answer}\\n\\n\")\n",
    "\n",
    "    print(f\"***********CITATIONS**********\\n\\n\")\n",
    "\n",
    "    for citation in response[\"answer\"].citations:\n",
    "        doc = response[\"retrieval_result\"][\"documents\"][citation.source_id]\n",
    "        print(f\"Source {citation.source_id}: {doc.metadata['source']}\\n\")\n",
    "        print(f\"Category: {doc.metadata['category']}\\n\")\n",
    "        print(f\"Quote:\\n{citation.quote}\\n\\n\")\n",
    "\n",
    "    print(f\"*********SEARCH TERMS*********\\n\")\n",
    "    search_terms = response[\"retrieval_result\"][\"search_terms\"]\n",
    "    print(f\"Query: {search_terms.query}\")\n",
    "    print(f\"Filter: {search_terms.category}\\n\\n\")\n",
    "\n",
    "    print(f\"************SOURCES***********\\n\\n\")\n",
    "\n",
    "    for i, doc in enumerate(response[\"retrieval_result\"][\"documents\"]):\n",
    "        print(f\"Source {i}: {doc.metadata['source']}\\n\")\n",
    "        print(f\"Category: {doc.metadata['category']}\\n\")\n",
    "        print(f\"Content:\\n{doc.page_content}\\n\\n\")"
   ]
  },
  {
   "cell_type": "code",
   "execution_count": null,
   "metadata": {},
   "outputs": [],
   "source": [
    "pretty_print_response(response)"
   ]
  },
  {
   "cell_type": "code",
   "execution_count": null,
   "metadata": {},
   "outputs": [],
   "source": [
    "response"
   ]
  },
  {
   "cell_type": "code",
   "execution_count": null,
   "metadata": {},
   "outputs": [],
   "source": []
  }
 ],
 "metadata": {
  "kernelspec": {
   "display_name": "edgedb_rag",
   "language": "python",
   "name": "python3"
  },
  "language_info": {
   "codemirror_mode": {
    "name": "ipython",
    "version": 3
   },
   "file_extension": ".py",
   "mimetype": "text/x-python",
   "name": "python",
   "nbconvert_exporter": "python",
   "pygments_lexer": "ipython3",
   "version": "3.11.0"
  }
 },
 "nbformat": 4,
 "nbformat_minor": 2
}
