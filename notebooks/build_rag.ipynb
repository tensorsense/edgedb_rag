{
 "cells": [
  {
   "cell_type": "code",
   "execution_count": 1,
   "metadata": {},
   "outputs": [],
   "source": [
    "from dotenv import load_dotenv, find_dotenv\n",
    "\n",
    "_ = load_dotenv(find_dotenv(\"us.env\"))  # read local .env file"
   ]
  },
  {
   "cell_type": "code",
   "execution_count": 2,
   "metadata": {},
   "outputs": [],
   "source": [
    "from pathlib import Path\n",
    "from tqdm import tqdm\n",
    "import sys\n",
    "\n",
    "sys.path.append(Path(\"..\").resolve().as_posix())"
   ]
  },
  {
   "cell_type": "markdown",
   "metadata": {},
   "source": [
    "## Prepare LLMs"
   ]
  },
  {
   "cell_type": "code",
   "execution_count": 3,
   "metadata": {},
   "outputs": [],
   "source": [
    "from llama_index.llms.azure_openai import AzureOpenAI\n",
    "from llama_index.embeddings.azure_openai import AzureOpenAIEmbedding\n",
    "from llama_index.core import Settings\n",
    "from langchain_openai import AzureChatOpenAI\n",
    "\n",
    "openai_api_version = \"2023-07-01-preview\"\n",
    "\n",
    "# gpt35 = AzureOpenAI(\n",
    "#     azure_deployment=\"gpt-35-turbo-1106-edgedb-1\",\n",
    "#     openai_api_version=openai_api_version,\n",
    "# )\n",
    "\n",
    "gpt35 = AzureOpenAI(\n",
    "    azure_deployment=\"gpt-35-turbo-1106\",\n",
    "    openai_api_version=openai_api_version,\n",
    ")\n",
    "\n",
    "gpt4 = AzureOpenAI(\n",
    "    azure_deployment=\"gpt-4-1106\",\n",
    "    openai_api_version=openai_api_version,\n",
    ")\n",
    "\n",
    "langchain_gpt35 = AzureChatOpenAI(\n",
    "    temperature=0.1,\n",
    "    azure_deployment=\"gpt-35-turbo-1106\",\n",
    "    openai_api_version=openai_api_version,\n",
    ")\n",
    "\n",
    "langchain_gpt4 = AzureChatOpenAI(\n",
    "    temperature=0.1,\n",
    "    azure_deployment=\"gpt-4-1106\",\n",
    "    openai_api_version=openai_api_version,\n",
    ")\n",
    "\n",
    "# You need to deploy your own embedding model as well as your own chat completion model\n",
    "embed_model = AzureOpenAIEmbedding(\n",
    "    deployment_name=\"text-embedding-ada-002\",\n",
    "    api_version=openai_api_version,\n",
    "    embed_batch_size=100,\n",
    ")\n",
    "\n",
    "Settings.llm = gpt35\n",
    "Settings.embed_model = embed_model"
   ]
  },
  {
   "cell_type": "markdown",
   "metadata": {},
   "source": [
    "## Assemble the RAG"
   ]
  },
  {
   "cell_type": "code",
   "execution_count": 4,
   "metadata": {},
   "outputs": [],
   "source": [
    "from src.core.index import build_index\n",
    "from src.core.retriever import build_retriever\n",
    "from src.core.postprocessor import build_context_filter\n",
    "from src.core.query_engine import build_query_engine"
   ]
  },
  {
   "cell_type": "code",
   "execution_count": 5,
   "metadata": {},
   "outputs": [],
   "source": [
    "lib_path = Path(\"../../docs_md\").resolve()\n",
    "assert lib_path.exists()\n",
    "\n",
    "persist_path = Path(\"index_storage\").resolve()\n",
    "collection_name = \"dev1\"\n",
    "\n",
    "index, full_nodes_dict = build_index(\n",
    "    persist_path=persist_path, collection_name=collection_name, lib_path=lib_path\n",
    ")\n",
    "\n",
    "retriever = build_retriever(\n",
    "    index=index, full_nodes_dict=full_nodes_dict, llm=gpt35, verbose=False, top_k=10\n",
    ")\n",
    "\n",
    "context_filter = build_context_filter(\n",
    "    langchain_light=langchain_gpt35, langchain_heavy=langchain_gpt4\n",
    ")\n",
    "\n",
    "query_engine = build_query_engine(\n",
    "    retriever=retriever,\n",
    "    llm=gpt4,\n",
    "    postprocessors=[context_filter],\n",
    "    langchain_light=langchain_gpt35,\n",
    "    langchain_heavy=langchain_gpt4,\n",
    ")"
   ]
  },
  {
   "cell_type": "code",
   "execution_count": 6,
   "metadata": {},
   "outputs": [
    {
     "name": "stdout",
     "output_type": "stream",
     "text": [
      "Using query str: Tell me about a basic select\n",
      "Using filters: [('section', '==', 'edgeql_and_sdl')]\n"
     ]
    }
   ],
   "source": [
    "response = query_engine.query(\"Tell me about a basic select\")\n",
    "print(response.response)"
   ]
  },
  {
   "cell_type": "markdown",
   "metadata": {},
   "source": [
    "## Run benchmarks"
   ]
  },
  {
   "cell_type": "code",
   "execution_count": null,
   "metadata": {},
   "outputs": [],
   "source": [
    "easy_query_path = Path(\"benchmarks/tutorial_benchmark.txt\").resolve()\n",
    "# hard_query_path = Path(\"benchmarks/user_benchmark.txt\").resolve()\n",
    "hard_query_path = Path(\"benchmarks/new_hard.txt\").resolve()"
   ]
  },
  {
   "cell_type": "code",
   "execution_count": null,
   "metadata": {},
   "outputs": [],
   "source": [
    "with easy_query_path.open(\"r\") as f:\n",
    "    easy_queries = [query.strip() for query in f.readlines()]\n",
    "\n",
    "with hard_query_path.open(\"r\") as f:\n",
    "    hard_queries = f.read().split(\">>>SEPARATOR<<<\")"
   ]
  }
 ],
 "metadata": {
  "kernelspec": {
   "display_name": "agent",
   "language": "python",
   "name": "python3"
  },
  "language_info": {
   "codemirror_mode": {
    "name": "ipython",
    "version": 3
   },
   "file_extension": ".py",
   "mimetype": "text/x-python",
   "name": "python",
   "nbconvert_exporter": "python",
   "pygments_lexer": "ipython3",
   "version": "3.11.0"
  }
 },
 "nbformat": 4,
 "nbformat_minor": 2
}
