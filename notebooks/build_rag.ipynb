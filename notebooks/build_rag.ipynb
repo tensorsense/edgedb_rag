{
 "cells": [
  {
   "cell_type": "code",
   "execution_count": null,
   "metadata": {},
   "outputs": [],
   "source": [
    "from dotenv import load_dotenv, find_dotenv\n",
    "from pathlib import Path\n",
    "from tqdm import tqdm\n",
    "import sys\n",
    "\n",
    "_ = load_dotenv(find_dotenv())  # read local .env file\n",
    "sys.path.append(Path(\"..\").resolve().as_posix())"
   ]
  },
  {
   "cell_type": "code",
   "execution_count": null,
   "metadata": {},
   "outputs": [],
   "source": [
    "from langchain_openai import AzureChatOpenAI, AzureOpenAIEmbeddings\n",
    "\n",
    "from src.core.index import Index, ID_KEY\n",
    "from src.core.retrievers.self_query_multi_vector import build_retriever\n",
    "from src.core.generator import build_generator"
   ]
  },
  {
   "cell_type": "code",
   "execution_count": null,
   "metadata": {},
   "outputs": [],
   "source": [
    "# index = Index.from_metadata(\n",
    "#     metadata_path=Path(\"../resources/doc_metadata.jsonl\").resolve(),\n",
    "#     lib_path=Path(\"../../docs_md\").resolve(),\n",
    "#     persist_path=Path(\"index_storage\").resolve(),\n",
    "#     embedding_function=AzureOpenAIEmbeddings(\n",
    "#         azure_deployment=\"text-embedding-ada-002\", api_version=\"2023-07-01-preview\"\n",
    "#     ),\n",
    "# )\n",
    "\n",
    "index = Index.from_persist_path(\n",
    "    persist_path=Path(\"index_storage\").resolve(),\n",
    "    embedding_function=AzureOpenAIEmbeddings(\n",
    "        azure_deployment=\"text-embedding-ada-002\", api_version=\"2023-07-01-preview\"\n",
    "    ),\n",
    ")"
   ]
  },
  {
   "cell_type": "code",
   "execution_count": null,
   "metadata": {},
   "outputs": [],
   "source": [
    "llm = AzureChatOpenAI(\n",
    "    temperature=0.0,\n",
    "    azure_deployment=\"gpt4o\",\n",
    "    openai_api_version=\"2023-07-01-preview\",\n",
    "    max_retries=0,\n",
    ")\n",
    "\n",
    "retriever = build_retriever(\n",
    "    llm=llm, vectorstore=index.vectorstore, docstore=index.docstore, id_key=ID_KEY\n",
    ")"
   ]
  },
  {
   "cell_type": "code",
   "execution_count": null,
   "metadata": {},
   "outputs": [],
   "source": [
    "generator = build_generator(llm=llm, retriever=retriever)"
   ]
  },
  {
   "cell_type": "code",
   "execution_count": null,
   "metadata": {},
   "outputs": [],
   "source": [
    "from langchain.globals import set_debug\n",
    "\n",
    "set_debug(False)\n",
    "\n",
    "response = generator.invoke(\n",
    "    {\"input\": \"Tell me basics of EdgeQL\"},\n",
    "    config={\n",
    "        \"configurable\": {\"session_id\": \"abc123\"}\n",
    "    },  # constructs a key \"abc123\" in `store`.\n",
    ")"
   ]
  },
  {
   "cell_type": "code",
   "execution_count": null,
   "metadata": {},
   "outputs": [],
   "source": [
    "def pretty_print_response(response):\n",
    "    print(f\"Prompt: {response['input']}\\n\\n\")\n",
    "    print(f\"Answer:\\n{response['answer'].answer}\\n\\n\")\n",
    "    print(\"***************************************************************\\n\")\n",
    "    for citation in response[\"answer\"].citations:\n",
    "        doc = response['context'][citation.source_id]\n",
    "        print(f\"Source {citation.source_id}: {doc.metadata['source']}\\n\")\n",
    "        print(f\"Category: {doc.metadata['category']}\\n\")\n",
    "        print(f\"Quote:\\n{citation.quote}\\n\\n\")"
   ]
  },
  {
   "cell_type": "code",
   "execution_count": null,
   "metadata": {},
   "outputs": [],
   "source": [
    "pretty_print_response(response)"
   ]
  },
  {
   "cell_type": "code",
   "execution_count": null,
   "metadata": {},
   "outputs": [],
   "source": []
  }
 ],
 "metadata": {
  "kernelspec": {
   "display_name": "edgedb_rag",
   "language": "python",
   "name": "python3"
  },
  "language_info": {
   "codemirror_mode": {
    "name": "ipython",
    "version": 3
   },
   "file_extension": ".py",
   "mimetype": "text/x-python",
   "name": "python",
   "nbconvert_exporter": "python",
   "pygments_lexer": "ipython3",
   "version": "3.11.0"
  }
 },
 "nbformat": 4,
 "nbformat_minor": 2
}
