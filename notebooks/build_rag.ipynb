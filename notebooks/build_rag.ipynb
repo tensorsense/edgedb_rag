{
 "cells": [
  {
   "cell_type": "code",
   "execution_count": null,
   "metadata": {},
   "outputs": [],
   "source": [
    "from dotenv import load_dotenv, find_dotenv\n",
    "\n",
    "_ = load_dotenv(find_dotenv())  # read local .env file"
   ]
  },
  {
   "cell_type": "code",
   "execution_count": null,
   "metadata": {},
   "outputs": [],
   "source": [
    "from pathlib import Path\n",
    "from tqdm import tqdm\n",
    "import sys\n",
    "\n",
    "sys.path.append(Path(\"..\").resolve().as_posix())"
   ]
  },
  {
   "cell_type": "markdown",
   "metadata": {},
   "source": [
    "## Prepare LLMs"
   ]
  },
  {
   "cell_type": "code",
   "execution_count": null,
   "metadata": {},
   "outputs": [],
   "source": [
    "from src.generator_builder import LLMConfig\n",
    "\n",
    "llms = LLMConfig.from_azure_deployments(\n",
    "    light=\"gpt-35-turbo-1106\",\n",
    "    heavy=\"gpt4o\",\n",
    "    embedding=\"text-embedding-ada-002\",\n",
    "    api_version=\"2023-07-01-preview\",\n",
    ")\n",
    "from llama_index.core import Settings\n",
    "\n",
    "Settings.embed_model = llms.embed_model\n",
    "Settings.llm = llms.llamaindex_light"
   ]
  },
  {
   "cell_type": "markdown",
   "metadata": {},
   "source": [
    "## Assemble the RAG"
   ]
  },
  {
   "cell_type": "code",
   "execution_count": null,
   "metadata": {},
   "outputs": [],
   "source": [
    "from src.index_builder import build_index\n",
    "\n",
    "index, full_nodes_dict = build_index(\n",
    "    persist_path = Path(\"index_storage_updated\").resolve(),\n",
    "    collection_name = \"index\",\n",
    "    lib_path = Path(\"../../docs_md\").resolve()\n",
    ")"
   ]
  },
  {
   "cell_type": "code",
   "execution_count": null,
   "metadata": {},
   "outputs": [],
   "source": [
    "from src.generator_builder import build_generator\n",
    "\n",
    "generator = build_generator(\n",
    "    index=index, full_nodes_dict=full_nodes_dict, llm_config=llms\n",
    ")"
   ]
  },
  {
   "cell_type": "markdown",
   "metadata": {},
   "source": [
    "## Run some queries"
   ]
  },
  {
   "cell_type": "code",
   "execution_count": null,
   "metadata": {},
   "outputs": [],
   "source": [
    "response = generator.stream_chat(message=\"Tell me about a basic select\", chat_history=[])\n",
    "\n",
    "response.print_response_stream()\n",
    "generator.reset()"
   ]
  },
  {
   "cell_type": "code",
   "execution_count": null,
   "metadata": {},
   "outputs": [],
   "source": [
    "from llama_index.core.base.llms.types import ChatMessage, MessageRole\n",
    "\n",
    "response = generator.chat(\n",
    "    chat_history=[\n",
    "        ChatMessage(\n",
    "            role=MessageRole.USER,\n",
    "            content=\"Tell me about a basic select\",\n",
    "        ),\n",
    "        ChatMessage(\n",
    "            role=MessageRole.ASSISTANT,\n",
    "            content=\"A basic `select` in EdgeDB is a command used to retrieve or compute a set of values from the database. \\\n",
    "            It can be used to select primitive values, objects, or computed results.\",\n",
    "        ),\n",
    "    ],\n",
    "    message=\"What about insert?\",\n",
    ")\n",
    "\n",
    "print(response.response)\n",
    "generator.reset()"
   ]
  },
  {
   "cell_type": "markdown",
   "metadata": {},
   "source": [
    "## Run benchmarks"
   ]
  },
  {
   "cell_type": "code",
   "execution_count": null,
   "metadata": {},
   "outputs": [],
   "source": [
    "query_path = Path(\"benchmarks/devon_0229.txt\").resolve()"
   ]
  },
  {
   "cell_type": "code",
   "execution_count": null,
   "metadata": {},
   "outputs": [],
   "source": [
    "with query_path.open(\"r\") as f:\n",
    "    queries = [query.strip() for query in f.readlines()]\n",
    "\n",
    "# with query_path.open(\"r\") as f:\n",
    "#     hard_queries = f.read().split(\">>>SEPARATOR<<<\")"
   ]
  },
  {
   "cell_type": "code",
   "execution_count": null,
   "metadata": {},
   "outputs": [],
   "source": [
    "queries"
   ]
  },
  {
   "cell_type": "code",
   "execution_count": null,
   "metadata": {},
   "outputs": [],
   "source": [
    "from src.eval import run_queries"
   ]
  },
  {
   "cell_type": "code",
   "execution_count": null,
   "metadata": {},
   "outputs": [],
   "source": [
    "from datetime import datetime\n",
    "\n",
    "timestamp = datetime.now().strftime(\"%Y-%m-%d-%H-%M-%S\")\n",
    "responses = run_queries(generator, queries, Path(f\"eval_devon_0229_{timestamp}.jsonl\").resolve())"
   ]
  },
  {
   "cell_type": "code",
   "execution_count": null,
   "metadata": {},
   "outputs": [],
   "source": [
    "for response in responses:\n",
    "    print(f\"QUERY: {response.query}\\n\")\n",
    "    print(f\"RESPONSE: {response.response}\\n\")\n",
    "    for i, node in enumerate(response.source_nodes):\n",
    "        print(f\"CONTEXT {i}: {node.text}\\n\")\n",
    "    print(\"\\n\\n\")\n",
    "    print(\"----------------------------------\")\n",
    "    print(\"\\n\\n\")"
   ]
  },
  {
   "cell_type": "markdown",
   "metadata": {},
   "source": [
    "## Evaluate results using an LLM"
   ]
  },
  {
   "cell_type": "code",
   "execution_count": null,
   "metadata": {},
   "outputs": [],
   "source": [
    "from src.eval import Evaluator\n",
    "\n",
    "evaluator = Evaluator(llm=llms.llamaindex_heavy)"
   ]
  },
  {
   "cell_type": "code",
   "execution_count": null,
   "metadata": {},
   "outputs": [],
   "source": [
    "# attach to the same event-loop\n",
    "import nest_asyncio\n",
    "\n",
    "nest_asyncio.apply()"
   ]
  },
  {
   "cell_type": "code",
   "execution_count": null,
   "metadata": {},
   "outputs": [],
   "source": [
    "from src.eval import PydanticResponse, run_queries\n",
    "\n",
    "responses_path = Path(\"eval_new_hard_2024-02-26-14-21-28-2.jsonl\")\n",
    "\n",
    "with responses_path.open(\"r\") as f:\n",
    "    responses = [PydanticResponse.parse_raw(raw) for raw in f.readlines()]\n",
    "\n",
    "len(responses)"
   ]
  },
  {
   "cell_type": "code",
   "execution_count": null,
   "metadata": {},
   "outputs": [],
   "source": [
    "eval_results = [evaluator.evaluate_response(response=response) for response in responses]"
   ]
  },
  {
   "cell_type": "code",
   "execution_count": null,
   "metadata": {},
   "outputs": [],
   "source": [
    "faithful = [eval_result for eval_result in eval_results if eval_result[\"answer_relevancy\"].passing]\n",
    "unfaithful = [eval_result for eval_result in eval_results if not eval_result[\"answer_relevancy\"].passing]\n",
    "non_response = [eval_result for eval_result in unfaithful if \"Sorry, the system was unable to produce a faithful response\" not in eval_result[\"faithfulness\"].response]\n",
    "len(faithful)"
   ]
  },
  {
   "cell_type": "code",
   "execution_count": null,
   "metadata": {},
   "outputs": [],
   "source": []
  }
 ],
 "metadata": {
  "kernelspec": {
   "display_name": "agent",
   "language": "python",
   "name": "python3"
  },
  "language_info": {
   "codemirror_mode": {
    "name": "ipython",
    "version": 3
   },
   "file_extension": ".py",
   "mimetype": "text/x-python",
   "name": "python",
   "nbconvert_exporter": "python",
   "pygments_lexer": "ipython3",
   "version": "3.11.0"
  }
 },
 "nbformat": 4,
 "nbformat_minor": 2
}
