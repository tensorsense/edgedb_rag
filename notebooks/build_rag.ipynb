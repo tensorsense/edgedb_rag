{
 "cells": [
  {
   "cell_type": "code",
   "execution_count": 1,
   "metadata": {},
   "outputs": [],
   "source": [
    "from dotenv import load_dotenv, find_dotenv\n",
    "\n",
    "_ = load_dotenv(find_dotenv(\"us.env\"))  # read local .env file"
   ]
  },
  {
   "cell_type": "code",
   "execution_count": 2,
   "metadata": {},
   "outputs": [],
   "source": [
    "from pathlib import Path\n",
    "from tqdm import tqdm\n",
    "import sys\n",
    "\n",
    "sys.path.append(Path(\"..\").resolve().as_posix())"
   ]
  },
  {
   "cell_type": "markdown",
   "metadata": {},
   "source": [
    "## Prepare LLMs"
   ]
  },
  {
   "cell_type": "code",
   "execution_count": 3,
   "metadata": {},
   "outputs": [],
   "source": [
    "from src.generator_builder import LLMConfig\n",
    "\n",
    "llms = LLMConfig.from_azure_deployments(\n",
    "    light=\"gpt-35-turbo-1106\",\n",
    "    heavy=\"gpt-4-1106\",\n",
    "    embedding=\"text-embedding-ada-002\",\n",
    "    api_version=\"2023-07-01-preview\",\n",
    ")\n",
    "from llama_index.core import Settings\n",
    "\n",
    "Settings.embed_model = llms.embed_model\n",
    "Settings.llm = llms.llamaindex_light"
   ]
  },
  {
   "cell_type": "markdown",
   "metadata": {},
   "source": [
    "## Assemble the RAG"
   ]
  },
  {
   "cell_type": "code",
   "execution_count": 4,
   "metadata": {},
   "outputs": [],
   "source": [
    "from src.index_builder import build_index\n",
    "\n",
    "index, full_nodes_dict = build_index(\n",
    "    persist_path = Path(\"index_storage\").resolve(),\n",
    "    collection_name = \"dev1\",\n",
    "    lib_path = Path(\"../../docs_md\").resolve()\n",
    ")"
   ]
  },
  {
   "cell_type": "code",
   "execution_count": 5,
   "metadata": {},
   "outputs": [],
   "source": [
    "from src.generator_builder import build_generator\n",
    "\n",
    "generator = build_generator(\n",
    "    index=index, full_nodes_dict=full_nodes_dict, llm_config=llms\n",
    ")"
   ]
  },
  {
   "cell_type": "code",
   "execution_count": 6,
   "metadata": {},
   "outputs": [
    {
     "name": "stdout",
     "output_type": "stream",
     "text": [
      "A basic `select` in EdgeQL is used to retrieve or compute a set of values from the database. It can be as simple as selecting primitive values or more complex when selecting objects with various properties and relationships. Here's an example of a basic `select` statement that retrieves primitive values: ```edgeql-repl db> select 'hello world'; {'hello world'} db> select [1, 2, 3]; {[1, 2, 3]} db> select {1, 2, 3}; {1, 2, 3} ``` In the context of a database schema, a `select` statement is often used to retrieve objects. For example, consider the following schema: ```sdl module default { type Person { required property name -> str; multi link friends -> Person; } } ``` Given this schema, you can select all `Person` objects with their names like this: ```edgeql-repl db> select Person { name }; ``` This will return a set of `Person` objects with their `name` property. By default, only the `id` of each object is returned, but by using a shape (enclosed in curly braces `{}`), you can specify which properties or links you want to include in the result. If you want to retrieve both the `name` and the list of `friends` for each `Person`, you would use a shape like this: ```edgeql-repl db> select Person { name, friends: { name } }; ``` This query will return each `Person` along with their `name` and a set of their `friends`' names.\n"
     ]
    }
   ],
   "source": [
    "response = generator.query(\"Tell me about a basic select\")\n",
    "print(response.response)"
   ]
  },
  {
   "cell_type": "markdown",
   "metadata": {},
   "source": [
    "## Run benchmarks"
   ]
  },
  {
   "cell_type": "code",
   "execution_count": null,
   "metadata": {},
   "outputs": [],
   "source": [
    "easy_query_path = Path(\"benchmarks/tutorial_benchmark.txt\").resolve()\n",
    "# hard_query_path = Path(\"benchmarks/user_benchmark.txt\").resolve()\n",
    "hard_query_path = Path(\"benchmarks/new_hard.txt\").resolve()"
   ]
  },
  {
   "cell_type": "code",
   "execution_count": null,
   "metadata": {},
   "outputs": [],
   "source": [
    "with easy_query_path.open(\"r\") as f:\n",
    "    easy_queries = [query.strip() for query in f.readlines()]\n",
    "\n",
    "with hard_query_path.open(\"r\") as f:\n",
    "    hard_queries = f.read().split(\">>>SEPARATOR<<<\")"
   ]
  },
  {
   "cell_type": "code",
   "execution_count": null,
   "metadata": {},
   "outputs": [],
   "source": [
    "len(hard_queries)"
   ]
  },
  {
   "cell_type": "code",
   "execution_count": null,
   "metadata": {},
   "outputs": [],
   "source": [
    "from src.eval import PydanticResponse, run_queries"
   ]
  },
  {
   "cell_type": "code",
   "execution_count": null,
   "metadata": {},
   "outputs": [],
   "source": [
    "from datetime import datetime\n",
    "\n",
    "timestamp = datetime.now().strftime(\"%Y-%m-%d-%H-%M-%S\")\n",
    "responses = run_queries(query_engine, hard_queries[147:], Path(f\"eval_new_hard_{timestamp}.jsonl\").resolve())"
   ]
  },
  {
   "cell_type": "code",
   "execution_count": null,
   "metadata": {},
   "outputs": [],
   "source": []
  }
 ],
 "metadata": {
  "kernelspec": {
   "display_name": "agent",
   "language": "python",
   "name": "python3"
  },
  "language_info": {
   "codemirror_mode": {
    "name": "ipython",
    "version": 3
   },
   "file_extension": ".py",
   "mimetype": "text/x-python",
   "name": "python",
   "nbconvert_exporter": "python",
   "pygments_lexer": "ipython3",
   "version": "3.11.0"
  }
 },
 "nbformat": 4,
 "nbformat_minor": 2
}
